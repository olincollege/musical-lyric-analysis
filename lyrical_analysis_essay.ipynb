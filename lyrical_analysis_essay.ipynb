{
  "cells": [
    {
      "cell_type": "markdown",
      "metadata": {},
      "source": [
        "## Analyzing the Impact of a Musical's Lyrics on Broadway Performance\n",
        "##### Carter Harris & Elin O'Neill - Olin College of Engineering\n",
        "\n",
        "\n",
        "### Introduction\n",
        "While countless elements are required to make a great musical - a compelling story, likeable (or dislikeable) characters, and the way the set and the actors come together, the music and lyrics are what seperates the good from the bad when it comes to musicals - music is in the name, after all. But what exactly is it about shows' music and lyrics that sets them apart from the others? While some shows and composers are all about a catchy beat, others are known for thier wordcraft and vocabulary, and this project aims to explore this latter and it's influence on a show's performance. In this project, we set out to analyze and determine whether the uniqueness & complexity of a musical's lyrics had an influence on the show's attendance on Broadway, a district in New York City that is the home of theater in the United States.\n",
        "\n",
        "### Methodology\n",
        "Before we get into the nitty-gritty of data sources and hundreds of lyrics, what exactly \"lyrical uniquness\" is must be definied. For this project, a song's lyrical uniqueness is defined as the percentage of unique words that make up the lyrics (number of unique words in the song divided by total words in the song). For each musical, an average is taken of each song's uniqueness to determine the musical's overall uniqueness\n",
        "\n",
        "#### Data Sources\n",
        "\n",
        "**CORGIS Broadway Data**\n",
        "\n",
        "The [CORGIS (Collection of Really Great, Intersting, Situated Datasets) Project](https://corgis-edu.github.io/corgis/) is a collection of various datasets that contain interesting statistics of everything from flight delays to smoking trends to reported UFO sightings. However, of our interest, the CORGIS project has [a dataset](https://corgis-edu.github.io/corgis/csv/broadway/) consisting of various data about shows on Broadway. This dataset, including data from the mid 1990s up until 2016, contains every show that was on Broadway, it's attendance, the number of shows performed, and various other data on a week-by-week basis. '\n",
        "\n",
        "**Genius Lyrics**\n",
        "\n",
        "[Genius Lyrics](https://genius.com/) is a website that acts as a database for lyrics and allows users to annotate the lyrics to describe the meaning of the lyrics, facts about the song, and other relevent interesting tidbits of information. [The LyricsGenius Library](https://lyricsgenius.readthedocs.io/en/master/) was used to access information stored on the website easily inside of Python. Using the musical titles gathered from the CORGIS dataset combined with certain additional search terms, a musical's lyrics can be identified and downloaded for further analysis.\n",
        "\n",
        "**Implementation**\n",
        "\n",
        "The CORGIS Broadway dataset needed to be modified to fit the project's needs. First, all Broadway Plays were removed since scripts for plays are not readily and easily accessible. Next, all performances before the year 1995 were filtered out since the data seemed to be full of gaps. After this, all other irrelevant columns of data were dropped including the show's date (day, month, and year), the name of the theater it was performed at, the capacity, the potential gross profit, and the gross profit. The refined data was then written to a CSV file in the project directory."
      ]
    },
    {
      "cell_type": "code",
      "metadata": {},
      "source": [
        "import broadway_data as broadway\n",
        "\n",
        "# Downloads Broadway data from the CORGIS database and filters it.\n",
        "broadway.get_broadway_data()"
      ],
      "execution_count": null,
      "outputs": []
    },
    {
      "cell_type": "markdown",
      "metadata": {},
      "source": [
        "Utilizing this new CSV file, the overall attendance for each Broadway show was calculated. The data in the CORGIS dataset is provided on a week-to-week basis, while this project is only interested in the totals across the show's entire run. This data along with each shows' name was added to a new CSV file called summed_broadway_data.csv. Additionally, the length of time the show is on broadway for (calculated by how many weekly entries there are) is calculated at this step."
      ]
    },
    {
      "cell_type": "code",
      "metadata": {},
      "source": [
        "# Uses previous data to sum all unique musical's attendance, number of\n",
        "# performances, and length of run together.\n",
        "broadway.sum_data()"
      ],
      "execution_count": null,
      "outputs": []
    },
    {
      "cell_type": "markdown",
      "metadata": {},
      "source": [
        "Finding the correct album on Genius to use is not as simple as it may seem. If just the show's title is inputted things could go wrong in many different ways. For example, if just \"Sweeney Todd\" is inputted, the movie soundtrack may come up, which has cut many of the songs and has cut all sung ensemble lines so it would translate better to a film. This makes the movie's lyrics vastly shorter than the Broadway musical's. If just \"Cry Baby\" is inputted, then the Melanie Martinez album may appear by mistake due to its popularity in comparison to the musical of the same name. Some musicals have more common or ambiguous words making up their titles such as \"Assassins,\" making it difficult to use only the title as the search term. To counteract this issue, an album was only \"found\" for a musical if the keyworkd \"broadway\", \"cast\", *or* \"recording\" were found to be included with the title. When searching for an album on Genius, it returns the first 5 results that match the search terms, and we are choosing the first one to include one of these keywords."
      ]
    },
    {
      "cell_type": "code",
      "metadata": {},
      "source": [
        "# genius_lyrics contains many funtions that are referenced as part of funtions \n",
        "# in compile_data even though none of the funtions are directly ran by \n",
        "# themselves. For example, functions in genius_lyrics are responsible for\n",
        "# obtaining Album IDs, Song IDs, lyrics, and calculating lyrical uniqueness.\n",
        "# These funtions are not formatted to loop for an entire list of musicals, but\n",
        "# are used in this manner in functions found in compile_data.\n",
        "import genius_lyrics as genius\n",
        "import compile_data as cd"
      ],
      "execution_count": null,
      "outputs": []
    },
    {
      "cell_type": "markdown",
      "metadata": {},
      "source": [
        "Each show included in the Broadway dataset then needed to be matched to its corresponding album & lyrics on Genius. Each album and song found on Genius has a unique Album ID and Song ID respectively. Using this Album ID, all of the proper song IDs for each musical were collected, allowing for the program to access an entire album's lyrics. A CSV file, titled by Album ID, was created for each musical; in it each row corresponded to a different song and each column was populated by an individual lyric in that song. This scheme of saving lyrics to individual CSV files was chosen since downloading lyrics is a very time-intensive process (taking upwards of a minute per musical), so this allowed us to download lyrics a single time and quickly retireve them later. This also allows us to avoid issues with the Genius API rate limiting the program."
      ]
    },
    {
      "cell_type": "code",
      "metadata": {},
      "source": [
        "# This funtion both finds the correct Broadway soundtrack for each show on \n",
        "# Genius and retrieves its Album ID\n",
        "cd.find_corresponding_album()"
      ],
      "execution_count": null,
      "outputs": []
    },
    {
      "cell_type": "markdown",
      "metadata": {},
      "source": [
        "To ensure that what is counted as a unique \"lyrics\" was not impacted by the inclusion of differing punctuation and that these lyrics are easily readable, some preliminary changes were made to the lyrics that were pulled. First, all puntuation (\\\"!#$%&'()*+,-./:;<=>?@\\^_`{|}~) was removed. After that all lyrics were made entirely lowercase. Finally, any word that contained square brackets ([]) was removed since that is Genius Lyrics' way of denoting the speaker/singer for the lyrics that follow."
      ]
    },
    {
      "cell_type": "code",
      "metadata": {},
      "source": [
        "# Downloads every musical's lyrics and filters out all unwanted \n",
        "# characters/words.\n",
        "cd.download_lyrics()"
      ],
      "execution_count": null,
      "outputs": []
    },
    {
      "cell_type": "markdown",
      "metadata": {},
      "source": [
        "Lyrical uniqueness was calculated by dividing the number of unique words (meaning there were no other instances of that word within that song) in a song by the total number of words in that song. This uniqueness score for each song was then averaged with the other scores for that specific musical to determine the whole show's lyrical uniqueness."
      ]
    },
    {
      "cell_type": "code",
      "metadata": {},
      "source": [
        "# Calculates lyrical uniqueness for every show.\n",
        "cd.find_all_uniqueness_scores()"
      ],
      "execution_count": null,
      "outputs": []
    },
    {
      "cell_type": "markdown",
      "metadata": {},
      "source": [
        "### Results\n",
        "\n",
        "After a lyrical uniqueness score was calculated for each musical, this score could then be compared to different measures of a Broadway musical's success such as total attendance and the number of weeks the show remained on broadway (both of these contained between the years 1995 and 2016). From this point it is then possible to determine if lyrical uniqeness has any impact on a show's box office success or longevity."
      ]
    },
    {
      "cell_type": "code",
      "metadata": {},
      "source": [
        "# Calculates average attendance and number of weeks on broadway for shows based\n",
        "# on their shared lyrical uniqueness scores (this is explained more later on).\n",
        "cd.avg_scores_data()\n",
        "\n",
        "# Creates the same plot that is shown below.\n",
        "cd.plot_data_unique_attendance()"
      ],
      "execution_count": null,
      "outputs": []
    },
    {
      "cell_type": "markdown",
      "metadata": {},
      "source": [
        "![Graph 1](essay_images/graph_1.png)\n",
        "\n",
        "To produce this first graph, all musicals sharing a lyrical uniqueness score had their overall attendances averaged. Although there is a slight spike in attendance for scores ranging from 50-60, it is not significant enough to indicate that the lyrical uniqueness of these shows contributed to their slightly higher attendance rates. \n",
        "\n",
        "The two noticable outliers, occuring at lyrical uniqueness scores 37 and 35, are a result of The Lion King (a very successful musical) not sharing a lyrical uniqueness score with any other show, resulting in an extremely high average and Mamma Mia (another highly successful show) only sharing it's lyrical uniqueness score with one other show. For lyrical uniqueness scores with fewer shows associated with them, the data can become very skewed if the few shows that have that score have attendance rates that are extreme."
      ]
    },
    {
      "cell_type": "code",
      "metadata": {},
      "source": [
        "# Creates the same plot that is shown below.\n",
        "cd.plot_data_unique_weeks()"
      ],
      "execution_count": null,
      "outputs": []
    },
    {
      "cell_type": "markdown",
      "metadata": {},
      "source": [
        "![Graph 2](essay_images/graph_2.png)\n",
        "\n",
        "To produce the second graph, all musicals sharing a lyrical uniqueness score had their total number of weeks on Broadway averaged. Although there is once again a slight spike in attendance for scores ranging from 50-60, it is still not significant enough to indicate that the lyrical uniqueness of these shows contributed to their slightly longer broadway runs. \n",
        "\n",
        "The two noticable outliers, occuring at lyrical uniqueness scores 37 and 35, are again a result of the Lion King and Mamma Mia which have extreme values for the length of their time on Broadway sharing their lyrical uniqueness score with no one or only one other show respectively. This means that when these values are averaged, they still represent these mroe extreme values.\n",
        "\n",
        "This graph is visually very similar to the previous graph that looked at attendance. Although, technically, two completely seperate things are being measured in these two graphs, the number of weeks a show is on broadway directly impacts how many people have the oppertunity to see it. On the other hand, the more popular the show is, the more money it generates, allowing it to stay on Broadway for more weeks. These graphs are so similar because the things they measure, although completely seperate, still directly impact each other."
      ]
    },
    {
      "cell_type": "code",
      "metadata": {},
      "source": [
        "# Creates the same plot that is shown below.\n",
        "cd.plot_data_total_attendance()"
      ],
      "execution_count": null,
      "outputs": []
    },
    {
      "cell_type": "markdown",
      "metadata": {},
      "source": [
        "![Graph 3](essay_images/graph_3.png)\n",
        "\n",
        "Since there seemed to be no correlation between lyrical uniqueness and measures of a show's success, focus shifted to a different measure of lyricism. To produce the final graph, the total number of lyrics (unique and non-unique) in each show were calculated and then compared to the show's overall attendance (once again from the year 1995 to 2016). This graph seems to have no noticeable correlation between the total number of lyrics and the total attendance. \n",
        "\n",
        "One interesting thing of note is the wildly popular and successful musical Hamilton, the data point of which can be spotted easily as it is the only Broadway musical to surpass 20,000 lyrics. Since Hamilton did not open until August of 2015 and despite remaining on Broadway as of right now in March of 2023, since the dataset only goes until 2016, its popularity and true attendance are not reflected in this project. The musical with the second highest lyric count, Les Miserables, is another musical with a higher than average attendance, with the two data points near 15,000 words representing different Broadway revivals of the show. All this being said, these shows that have very high lyric counts, but their total attendance and therefore success is still likely not a refelction of this.\n",
        "\n",
        "\n",
        "### Conclusion\n",
        "A show's lyrics are an instrumental part of making a lasting impact on the audience. They serve as a vehicle for storytelling and can prove to be just as memorable as characters or plot points when used masterfully. Despite their importance, they alone do not contribute to a musical's success. Based on the results of graphing various measures of a Broadway musical's success in comparison to either it's lyrical uniqueness or total lyric count, it is safe to conclude that a musical's lyrical amount or uniqueness has little to no impact on it's success. \n",
        "\n",
        "If given more time, a musical's lyrical repetitiveness (how many times certian words or phrases are repeated) in comparison to measures of its success is something that could be analyzed. It could then be concluded whether or not having certian words or phrases repeated continuously would cause the viewer to become bored or annoyed and contribute to future lower attendance numbers or a shorter stay on Broadway.\n",
        "\n",
        "Another thing that would be interesting to test would be a musical's lyrical uniqueness in comparison to every show's lyrics. Looking at what shows use words that no other show uses and whether or not that aspect makes them stand out, become pupular, and stay relevant, would be very fun. \n",
        "\n",
        "Good lyrics may be essential to creating a successful musical, but the importance of having complex characters, talented actors, catchy melodies, and a memorable story outweigh that.\n"
      ]
    }
  ],
  "metadata": {
    "kernelspec": {
      "name": "python3",
      "language": "python",
      "display_name": "Python 3 (ipykernel)"
    }
  },
  "nbformat": 4,
  "nbformat_minor": 4
}